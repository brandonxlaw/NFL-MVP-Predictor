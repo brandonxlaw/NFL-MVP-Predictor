{
 "cells": [
  {
   "cell_type": "code",
   "execution_count": 1,
   "id": "ba3840a5-bc3a-4c79-8591-7bf316e1b10a",
   "metadata": {},
   "outputs": [],
   "source": [
    "import pandas as pd"
   ]
  },
  {
   "cell_type": "code",
   "execution_count": 349,
   "id": "5f5397d4-c6da-4148-97a6-181296c78a4a",
   "metadata": {},
   "outputs": [],
   "source": [
    "# Import the csv file\n",
    "df = pd.read_csv('data/{year}.csv')\n",
    "pd.set_option('display.max_columns', 36)"
   ]
  },
  {
   "cell_type": "code",
   "execution_count": 354,
   "id": "748da2e9-71f1-4fb3-a54d-c11f2a8c1346",
   "metadata": {},
   "outputs": [],
   "source": [
    "# Remove completely empty rows\n",
    "df.dropna(axis=0, how='all', inplace=True)"
   ]
  },
  {
   "cell_type": "code",
   "execution_count": 355,
   "id": "53f27fa2-f973-46a7-9aa8-7360da31b372",
   "metadata": {},
   "outputs": [],
   "source": [
    "# Remove special characters in front of player names\n",
    "df['Player'] = df['Player'].str.rstrip('*+')"
   ]
  },
  {
   "cell_type": "code",
   "execution_count": 356,
   "id": "9423333d-cdd5-42be-bbd9-44cf77fe9301",
   "metadata": {},
   "outputs": [],
   "source": [
    "# Renaming columns\n",
    "df.rename(columns={\"Rk\": \"Rank (Yards)\", \"QBrec\": \"Record\", \"Yds\": \"Yards\", \"Yds.1\": \"Yds Lost\"}, inplace=True)"
   ]
  },
  {
   "cell_type": "code",
   "execution_count": 360,
   "id": "88044de7-6102-493f-a075-61b43786f862",
   "metadata": {},
   "outputs": [],
   "source": [
    "# Split the record column into Wins, Losses and Draws\n",
    "df[['W', 'L', 'D']] = df['Record'].str.split('-', 3, expand=True)"
   ]
  },
  {
   "cell_type": "code",
   "execution_count": 361,
   "id": "f42af96f-8d66-497e-af95-babc5fa47155",
   "metadata": {},
   "outputs": [],
   "source": [
    "# Fill/replace position\n",
    "df['Pos'] = \"QB\""
   ]
  },
  {
   "cell_type": "code",
   "execution_count": 362,
   "id": "630fac7a-2eb7-4cd4-8592-419ae09785b9",
   "metadata": {},
   "outputs": [],
   "source": [
    "# Add year of when the stats were recorded\n",
    "df.insert(2, \"Year\", {year})"
   ]
  },
  {
   "cell_type": "code",
   "execution_count": 363,
   "id": "f4d9e00f-74b5-4297-89d6-6998bd2de2cd",
   "metadata": {},
   "outputs": [],
   "source": [
    "# Add MVP status column\n",
    "df.insert(2, \"MVP Status\", 0)"
   ]
  },
  {
   "cell_type": "code",
   "execution_count": 364,
   "id": "13640105-71a8-4ed1-879b-ff5d0fe6f55f",
   "metadata": {},
   "outputs": [],
   "source": [
    "# Reorder columns to have Wins, Losses and Draws beside Record\n",
    "df = df[['Rank (Yards)', 'Player', 'MVP Status', 'Year', 'Tm',\n",
    "       'Age', 'Pos', 'G', 'GS', 'Record', 'W', 'L',\n",
    "       'D', 'Cmp', 'Att', 'Cmp%', 'Yards', 'TD',\n",
    "       'TD%', 'Int', 'Int%', '1D', 'Lng', 'Y/A', 'AY/A', 'Y/C', 'Y/G', 'Rate',\n",
    "       'QBR', 'Sk', 'Yds Lost', 'NY/A', 'ANY/A', 'Sk%', '4QC', 'GWD']]"
   ]
  },
  {
   "cell_type": "code",
   "execution_count": 366,
   "id": "db2dfbd5-a333-4527-94c7-f5e55f42ae41",
   "metadata": {},
   "outputs": [],
   "source": [
    "df.drop(\"Record\", axis=1, inplace=True)"
   ]
  },
  {
   "cell_type": "code",
   "execution_count": 368,
   "id": "99977bbc-fc22-4f2d-84ba-eae979c0c48c",
   "metadata": {},
   "outputs": [],
   "source": [
    "# Add the MVP of the season -> Change name\n",
    "df.loc[df['Player'] == '{winner}', 'MVP Status'] = 1"
   ]
  },
  {
   "cell_type": "code",
   "execution_count": 369,
   "id": "65fbe807-5e5e-41cf-a1ae-d654df5e2fc2",
   "metadata": {},
   "outputs": [],
   "source": [
    "# Save changes to CSV file\n",
    "df.to_csv('data/{year}.csv')"
   ]
  }
 ],
 "metadata": {
  "kernelspec": {
   "display_name": "Python 3",
   "language": "python",
   "name": "python3"
  },
  "language_info": {
   "codemirror_mode": {
    "name": "ipython",
    "version": 3
   },
   "file_extension": ".py",
   "mimetype": "text/x-python",
   "name": "python",
   "nbconvert_exporter": "python",
   "pygments_lexer": "ipython3",
   "version": "3.8.8"
  }
 },
 "nbformat": 4,
 "nbformat_minor": 5
}
