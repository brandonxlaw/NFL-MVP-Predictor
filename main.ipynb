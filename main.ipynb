{
 "cells": [
  {
   "cell_type": "code",
   "execution_count": 380,
   "metadata": {},
   "outputs": [],
   "source": [
    "# Import dependencies\n",
    "import pandas as pd\n",
    "import numpy as np\n",
    "import matplotlib as plt\n",
    "import datetime as dt\n",
    "\n",
    "# Display all columns\n",
    "pd.set_option('display.max_columns', None)"
   ]
  },
  {
   "cell_type": "markdown",
   "metadata": {},
   "source": [
    "# 1. Importing data from nflfastR"
   ]
  },
  {
   "cell_type": "markdown",
   "metadata": {},
   "source": [
    "## Player stats from 1999-2021"
   ]
  },
  {
   "cell_type": "code",
   "execution_count": 381,
   "metadata": {},
   "outputs": [],
   "source": [
    "# Player stats from 1999 - 2021\n",
    "players = pd.read_csv('https://github.com/nflverse/nflfastR-data/blob/master/data/player_stats.csv.gz?raw=True', compression='gzip', low_memory=False)\n",
    "# Clean dataset to relevant features\n",
    "player_cols = ['player_id', 'player_name', 'recent_team', 'season', 'attempts', 'passing_yards', 'passing_tds', 'interceptions', 'passing_epa', 'rushing_yards', 'rushing_tds', 'rushing_epa', 'receiving_yards', 'receiving_tds', 'receiving_epa']\n",
    "players = players[player_cols]\n",
    "players = players[players['season'] > 2003]\n",
    "players = players.groupby(by=['player_id', 'player_name' , 'recent_team', 'season']).sum().reset_index()\n",
    "players = players[players['attempts'] > 150]\n",
    "# Combine passing, rushing and receiving yards and EPA.\n",
    "players['total_yards'] = players['passing_yards'] + players['rushing_yards'] + players['receiving_yards']\n",
    "players['total_tds'] = players['passing_tds'] + players['rushing_tds'] + players['receiving_tds']\n",
    "players['total_epa'] = players['passing_epa'] + players['rushing_epa'] + players['receiving_epa']\n",
    "# Combine passing, rushing and receiving yards\n",
    "players.drop(columns=['passing_yards', 'rushing_yards', 'receiving_yards', 'passing_tds', 'rushing_tds', 'receiving_tds', 'passing_epa', 'rushing_epa', 'receiving_epa'], inplace=True)\n",
    "players[['games_played', 'games_won']] = 0\n",
    "# Reset index\n",
    "players.reset_index(drop=True, inplace=True)"
   ]
  },
  {
   "cell_type": "code",
   "execution_count": 382,
   "metadata": {},
   "outputs": [
    {
     "data": {
      "text/html": [
       "<div>\n",
       "<style scoped>\n",
       "    .dataframe tbody tr th:only-of-type {\n",
       "        vertical-align: middle;\n",
       "    }\n",
       "\n",
       "    .dataframe tbody tr th {\n",
       "        vertical-align: top;\n",
       "    }\n",
       "\n",
       "    .dataframe thead th {\n",
       "        text-align: right;\n",
       "    }\n",
       "</style>\n",
       "<table border=\"1\" class=\"dataframe\">\n",
       "  <thead>\n",
       "    <tr style=\"text-align: right;\">\n",
       "      <th></th>\n",
       "      <th>player_id</th>\n",
       "      <th>player_name</th>\n",
       "      <th>recent_team</th>\n",
       "      <th>season</th>\n",
       "      <th>attempts</th>\n",
       "      <th>interceptions</th>\n",
       "      <th>total_yards</th>\n",
       "      <th>total_tds</th>\n",
       "      <th>total_epa</th>\n",
       "      <th>games_played</th>\n",
       "      <th>games_won</th>\n",
       "    </tr>\n",
       "  </thead>\n",
       "  <tbody>\n",
       "    <tr>\n",
       "      <th>0</th>\n",
       "      <td>00-0001361</td>\n",
       "      <td>D.Bledsoe</td>\n",
       "      <td>BUF</td>\n",
       "      <td>2004</td>\n",
       "      <td>450</td>\n",
       "      <td>16</td>\n",
       "      <td>2969</td>\n",
       "      <td>20</td>\n",
       "      <td>-31.915171</td>\n",
       "      <td>0</td>\n",
       "      <td>0</td>\n",
       "    </tr>\n",
       "    <tr>\n",
       "      <th>1</th>\n",
       "      <td>00-0001361</td>\n",
       "      <td>D.Bledsoe</td>\n",
       "      <td>DAL</td>\n",
       "      <td>2005</td>\n",
       "      <td>499</td>\n",
       "      <td>17</td>\n",
       "      <td>3689</td>\n",
       "      <td>25</td>\n",
       "      <td>32.794141</td>\n",
       "      <td>0</td>\n",
       "      <td>0</td>\n",
       "    </tr>\n",
       "    <tr>\n",
       "      <th>2</th>\n",
       "      <td>00-0001361</td>\n",
       "      <td>D.Bledsoe</td>\n",
       "      <td>DAL</td>\n",
       "      <td>2006</td>\n",
       "      <td>169</td>\n",
       "      <td>8</td>\n",
       "      <td>1192</td>\n",
       "      <td>9</td>\n",
       "      <td>-3.913390</td>\n",
       "      <td>0</td>\n",
       "      <td>0</td>\n",
       "    </tr>\n",
       "    <tr>\n",
       "      <th>3</th>\n",
       "      <td>00-0001823</td>\n",
       "      <td>A.Brooks</td>\n",
       "      <td>LV</td>\n",
       "      <td>2006</td>\n",
       "      <td>192</td>\n",
       "      <td>8</td>\n",
       "      <td>1229</td>\n",
       "      <td>3</td>\n",
       "      <td>-49.179365</td>\n",
       "      <td>0</td>\n",
       "      <td>0</td>\n",
       "    </tr>\n",
       "    <tr>\n",
       "      <th>4</th>\n",
       "      <td>00-0001823</td>\n",
       "      <td>A.Brooks</td>\n",
       "      <td>NO</td>\n",
       "      <td>2004</td>\n",
       "      <td>542</td>\n",
       "      <td>16</td>\n",
       "      <td>3984</td>\n",
       "      <td>25</td>\n",
       "      <td>18.590598</td>\n",
       "      <td>0</td>\n",
       "      <td>0</td>\n",
       "    </tr>\n",
       "  </tbody>\n",
       "</table>\n",
       "</div>"
      ],
      "text/plain": [
       "    player_id player_name recent_team  season  attempts  interceptions  \\\n",
       "0  00-0001361   D.Bledsoe         BUF    2004       450             16   \n",
       "1  00-0001361   D.Bledsoe         DAL    2005       499             17   \n",
       "2  00-0001361   D.Bledsoe         DAL    2006       169              8   \n",
       "3  00-0001823    A.Brooks          LV    2006       192              8   \n",
       "4  00-0001823    A.Brooks          NO    2004       542             16   \n",
       "\n",
       "   total_yards  total_tds  total_epa  games_played  games_won  \n",
       "0         2969         20 -31.915171             0          0  \n",
       "1         3689         25  32.794141             0          0  \n",
       "2         1192          9  -3.913390             0          0  \n",
       "3         1229          3 -49.179365             0          0  \n",
       "4         3984         25  18.590598             0          0  "
      ]
     },
     "execution_count": 382,
     "metadata": {},
     "output_type": "execute_result"
    }
   ],
   "source": [
    "players.head()"
   ]
  },
  {
   "cell_type": "markdown",
   "metadata": {},
   "source": [
    "## Define functions"
   ]
  },
  {
   "cell_type": "code",
   "execution_count": 383,
   "metadata": {},
   "outputs": [],
   "source": [
    "# Add the player's team for that year\n",
    "def add_teams(year, season_data):\n",
    "    annex = players[players['season'] == year]\n",
    "    annex = dict(zip(annex['player_id'], annex['recent_team']))\n",
    "    season_data['recent_team'] = season_data['passer_player_id'].apply(lambda x: annex[x] if x in annex else ' ')\n",
    "    season_data = season_data[season_data.recent_team != ' ']\n",
    "    season_data.reset_index(drop=True, inplace=True)\n",
    "    return season_data"
   ]
  },
  {
   "cell_type": "code",
   "execution_count": 384,
   "metadata": {},
   "outputs": [],
   "source": [
    "# Match winning team to the player's team\n",
    "def add_games_won(season_data):\n",
    "    for i in range(len(season_data)):\n",
    "        # If the player's team is the home team and the home team won\n",
    "        if (season_data.iloc[i,10] == season_data.iloc[i,2]) and (season_data.iloc[i,3] > season_data.iloc[i,5]):\n",
    "            # Count it as a win\n",
    "            season_data.iloc[i, 9] = 1\n",
    "        # Or if the player's team is the away team and the away team won\n",
    "        elif (season_data.iloc[i,10] == season_data.iloc[i,4]) and (season_data.iloc[i,3] < season_data.iloc[i,5]):\n",
    "            # Count it as a win\n",
    "            season_data.iloc[i, 9] = 1\n",
    "    return season_data"
   ]
  },
  {
   "cell_type": "code",
   "execution_count": 385,
   "metadata": {},
   "outputs": [],
   "source": [
    "# Save the games won and played by each player in a dictionary\n",
    "def get_games_dict(season_data):\n",
    "    new_dict = {}\n",
    "    id_list = season_data['passer_player_id'].unique().tolist()\n",
    "    for i in id_list:\n",
    "        new_dict[i] = {'games_played': season_data.loc[season_data['passer_player_id'] == i, 'games_played'].sum(), 'games_won': season_data.loc[season_data['passer_player_id'] == i, 'games_won'].sum()}\n",
    "    return new_dict"
   ]
  },
  {
   "cell_type": "code",
   "execution_count": 386,
   "metadata": {},
   "outputs": [],
   "source": [
    "# Add the games played and won to the dataframe\n",
    "def update_games(games_dict, year):\n",
    "    new = players[players['season'] == year]\n",
    "    id_list = new['player_id'].unique().tolist()\n",
    "    for i in id_list:\n",
    "        new.loc[new['player_id'] == i, 'games_played'] = games_dict[i]['games_played']\n",
    "        new.loc[new['player_id'] == i, 'games_won'] = games_dict[i]['games_won']\n",
    "    return new"
   ]
  },
  {
   "cell_type": "markdown",
   "metadata": {},
   "source": [
    "# 2. Clean season stats"
   ]
  },
  {
   "cell_type": "code",
   "execution_count": 387,
   "metadata": {},
   "outputs": [
    {
     "name": "stderr",
     "output_type": "stream",
     "text": [
      "/Users/brandonlaw/opt/anaconda3/envs/ds/lib/python3.9/site-packages/pandas/core/indexing.py:1817: SettingWithCopyWarning: \n",
      "A value is trying to be set on a copy of a slice from a DataFrame.\n",
      "Try using .loc[row_indexer,col_indexer] = value instead\n",
      "\n",
      "See the caveats in the documentation: https://pandas.pydata.org/pandas-docs/stable/user_guide/indexing.html#returning-a-view-versus-a-copy\n",
      "  self._setitem_single_column(loc, value, pi)\n",
      "/Users/brandonlaw/opt/anaconda3/envs/ds/lib/python3.9/site-packages/pandas/core/frame.py:3645: SettingWithCopyWarning: \n",
      "A value is trying to be set on a copy of a slice from a DataFrame.\n",
      "Try using .loc[row_indexer,col_indexer] = value instead\n",
      "\n",
      "See the caveats in the documentation: https://pandas.pydata.org/pandas-docs/stable/user_guide/indexing.html#returning-a-view-versus-a-copy\n",
      "  self[col] = value\n",
      "/var/folders/0y/r0vtl44157ld1k6fwf2d3knw0000gn/T/ipykernel_21542/663771792.py:29: SettingWithCopyWarning: \n",
      "A value is trying to be set on a copy of a slice from a DataFrame.\n",
      "Try using .loc[row_indexer,col_indexer] = value instead\n",
      "\n",
      "See the caveats in the documentation: https://pandas.pydata.org/pandas-docs/stable/user_guide/indexing.html#returning-a-view-versus-a-copy\n",
      "  new_plays['total_tds_rank'] = new_plays['total_tds'].rank(method='max', ascending=False)\n",
      "/var/folders/0y/r0vtl44157ld1k6fwf2d3knw0000gn/T/ipykernel_21542/663771792.py:30: SettingWithCopyWarning: \n",
      "A value is trying to be set on a copy of a slice from a DataFrame.\n",
      "Try using .loc[row_indexer,col_indexer] = value instead\n",
      "\n",
      "See the caveats in the documentation: https://pandas.pydata.org/pandas-docs/stable/user_guide/indexing.html#returning-a-view-versus-a-copy\n",
      "  new_plays['total_epa_rank'] = new_plays['total_epa'].rank(method='min', ascending=False)\n",
      "/var/folders/0y/r0vtl44157ld1k6fwf2d3knw0000gn/T/ipykernel_21542/663771792.py:31: SettingWithCopyWarning: \n",
      "A value is trying to be set on a copy of a slice from a DataFrame.\n",
      "Try using .loc[row_indexer,col_indexer] = value instead\n",
      "\n",
      "See the caveats in the documentation: https://pandas.pydata.org/pandas-docs/stable/user_guide/indexing.html#returning-a-view-versus-a-copy\n",
      "  new_plays['total_yards_rank'] = new_plays['total_yards'].rank(method='min', ascending=False)\n",
      "/var/folders/0y/r0vtl44157ld1k6fwf2d3knw0000gn/T/ipykernel_21542/663771792.py:32: SettingWithCopyWarning: \n",
      "A value is trying to be set on a copy of a slice from a DataFrame.\n",
      "Try using .loc[row_indexer,col_indexer] = value instead\n",
      "\n",
      "See the caveats in the documentation: https://pandas.pydata.org/pandas-docs/stable/user_guide/indexing.html#returning-a-view-versus-a-copy\n",
      "  new_plays['games_won_rank'] = new_plays['games_won'].rank(method='min', ascending=False)\n"
     ]
    }
   ],
   "source": [
    "# Play-by-play stats from 2004 - 2020\n",
    "play_cols = ['game_id', 'game_date', 'home_team', 'home_score', 'away_team', 'away_score', 'passer_player_name', 'passer_player_id']\n",
    "end_date = {'2004': '2005-01-02', '2005': '2006-01-01', '2006': '2006-12-31', '2007': '2007-12-30', '2008': '2008-12-28', '2009': '2010-01-03', '2010': '2011-01-02', '2011': '2012-01-01', '2012': '2012-12-30', '2013': '2013-12-29', '2014': '2014-12-28', '2015': '2016-01-03', '2016': '2017-01-01', '2017': '2017-12-31', '2018': '2018-12-30', '2019': '2019-12-29', '2020': '2021-01-03', '2021': '2022-01-09'}\n",
    "plays = []\n",
    "mvp = {'2004': '00-0010346', '2007': '00-0019596', '2008': '00-0010346', '2009': '00-0010346', '2010': '00-0019596', '2011': '00-0023459', '2013': '00-0010346', '2014': '00-0023459', '2015': '00-0027939', '2016': '00-0026143', '2017': '00-0019596', '2018': '00-0033873', '2019': '00-0034796', '2020': '00-0023459', '2021': '00-0023459'}\n",
    "years = list(range(2004,2022))\n",
    "years = [e for e in years if e not in (2005, 2006, 2012)]\n",
    "\n",
    "for i in years:\n",
    "    playoff_date = pd.to_datetime(end_date[str(i)])\n",
    "    # low_memory=False eliminates a warning\n",
    "    season_data = pd.read_csv('https://github.com/nflverse/nflfastR-data/blob/master/data/play_by_play_' + str(i) + '.csv.gz?raw=True', compression='gzip', low_memory=False)\n",
    "    # Clean dataset to relevant features\n",
    "    season_data = season_data[play_cols]\n",
    "    season_data.dropna(axis=0, how='any', inplace=True)\n",
    "    season_data.drop_duplicates(inplace=True)\n",
    "    season_data[['games_played', 'games_won', 'recent_team']] = 1, 0, ' '\n",
    "    # Filter out games after relevant end date\n",
    "    season_data['game_date'] = pd.to_datetime(season_data['game_date'])\n",
    "    season_data = season_data[season_data['game_date'] <= playoff_date]\n",
    "    season_data = add_teams(i, season_data)\n",
    "    season_data = add_games_won(season_data)\n",
    "    games_dict = get_games_dict(season_data)\n",
    "    new_plays = update_games(games_dict, i)\n",
    "    # Add MVP\n",
    "    new_plays[['prob_MVP', 'act_MVP']] = 0\n",
    "    new_plays.loc[new_plays['player_id'] == mvp[str(i)], 'act_MVP'] = 1\n",
    "    # Assign rankings\n",
    "    new_plays['total_tds_rank'] = new_plays['total_tds'].rank(method='max', ascending=False)\n",
    "    new_plays['total_epa_rank'] = new_plays['total_epa'].rank(method='min', ascending=False)\n",
    "    new_plays['total_yards_rank'] = new_plays['total_yards'].rank(method='min', ascending=False)\n",
    "    new_plays['games_won_rank'] = new_plays['games_won'].rank(method='min', ascending=False)\n",
    "    # Append dataframe to list\n",
    "    plays.append(new_plays)\n",
    "\n",
    "# Convert list to dataframe\n",
    "df = pd.concat(plays)\n",
    "df.reset_index(drop=True, inplace=True)"
   ]
  },
  {
   "cell_type": "markdown",
   "metadata": {},
   "source": [
    "# 3. Training the Model"
   ]
  },
  {
   "cell_type": "code",
   "execution_count": 388,
   "metadata": {},
   "outputs": [],
   "source": [
    "# Omitting 'games_played'\n",
    "df = df[['player_name','recent_team', 'season', 'act_MVP', 'interceptions', 'total_tds_rank', 'total_epa_rank', 'total_yards_rank', 'games_won_rank']]"
   ]
  },
  {
   "cell_type": "code",
   "execution_count": 389,
   "metadata": {},
   "outputs": [
    {
     "data": {
      "text/plain": [
       "(573, 9)"
      ]
     },
     "execution_count": 389,
     "metadata": {},
     "output_type": "execute_result"
    }
   ],
   "source": [
    "df.shape"
   ]
  },
  {
   "cell_type": "code",
   "execution_count": 390,
   "metadata": {},
   "outputs": [],
   "source": [
    "from sklearn.linear_model import LogisticRegression\n",
    "from sklearn.model_selection import train_test_split\n",
    "from scipy.special import softmax"
   ]
  },
  {
   "cell_type": "markdown",
   "metadata": {},
   "source": [
    "## Split data"
   ]
  },
  {
   "cell_type": "code",
   "execution_count": 391,
   "metadata": {},
   "outputs": [],
   "source": [
    "feature_cols = ['interceptions', 'total_tds_rank', 'total_epa_rank', 'total_yards_rank', 'games_won_rank']\n",
    "\n",
    "# Split into training and test sets\n",
    "train = df[df['season'] < 2017]\n",
    "test = df[df['season'] >= 2017]\n",
    "x_train = train[feature_cols]\n",
    "y_train = train['act_MVP']\n",
    "x_test = test[feature_cols]\n",
    "y_test = test['act_MVP']"
   ]
  },
  {
   "cell_type": "code",
   "execution_count": 392,
   "metadata": {},
   "outputs": [
    {
     "data": {
      "text/plain": [
       "LogisticRegression()"
      ]
     },
     "execution_count": 392,
     "metadata": {},
     "output_type": "execute_result"
    }
   ],
   "source": [
    "# Fit the model\n",
    "logr = LogisticRegression()\n",
    "logr.fit(x_train, y_train)"
   ]
  },
  {
   "cell_type": "code",
   "execution_count": 393,
   "metadata": {},
   "outputs": [
    {
     "data": {
      "text/plain": [
       "0.9790575916230366"
      ]
     },
     "execution_count": 393,
     "metadata": {},
     "output_type": "execute_result"
    }
   ],
   "source": [
    "# Calculate the model accruacy\n",
    "score = logr.score(x_test, y_test)\n",
    "score"
   ]
  },
  {
   "cell_type": "markdown",
   "metadata": {},
   "source": [
    "## Gather coefficients"
   ]
  },
  {
   "cell_type": "code",
   "execution_count": 394,
   "metadata": {},
   "outputs": [
    {
     "name": "stdout",
     "output_type": "stream",
     "text": [
      "Features:  ['interceptions', 'total_tds_rank', 'total_epa_rank', 'total_yards_rank', 'games_won_rank']\n",
      "Coefficients:  [[-0.30727478  0.01386688 -0.41815869 -0.42031365 -1.01891282]]\n",
      "Intercept:  [7.44494966]\n"
     ]
    }
   ],
   "source": [
    "print(\"Features: \", feature_cols)\n",
    "print(\"Coefficients: \", logr.coef_)\n",
    "print(\"Intercept: \", logr.intercept_)"
   ]
  },
  {
   "cell_type": "markdown",
   "metadata": {},
   "source": [
    "# 4. Testing the model"
   ]
  },
  {
   "cell_type": "code",
   "execution_count": 395,
   "metadata": {},
   "outputs": [
    {
     "name": "stderr",
     "output_type": "stream",
     "text": [
      "/var/folders/0y/r0vtl44157ld1k6fwf2d3knw0000gn/T/ipykernel_21542/2844992138.py:2: SettingWithCopyWarning: \n",
      "A value is trying to be set on a copy of a slice from a DataFrame.\n",
      "Try using .loc[row_indexer,col_indexer] = value instead\n",
      "\n",
      "See the caveats in the documentation: https://pandas.pydata.org/pandas-docs/stable/user_guide/indexing.html#returning-a-view-versus-a-copy\n",
      "  new['prob_MVP'] = logr.predict_proba(new[feature_cols]).tolist()\n",
      "/var/folders/0y/r0vtl44157ld1k6fwf2d3knw0000gn/T/ipykernel_21542/2844992138.py:3: SettingWithCopyWarning: \n",
      "A value is trying to be set on a copy of a slice from a DataFrame.\n",
      "Try using .loc[row_indexer,col_indexer] = value instead\n",
      "\n",
      "See the caveats in the documentation: https://pandas.pydata.org/pandas-docs/stable/user_guide/indexing.html#returning-a-view-versus-a-copy\n",
      "  new['prob_MVP'] = new['prob_MVP'].apply(lambda x: x[1])\n"
     ]
    }
   ],
   "source": [
    "new = df[df['season'] == 2021]\n",
    "new['prob_MVP'] = logr.predict_proba(new[feature_cols]).tolist()\n",
    "new['prob_MVP'] = new['prob_MVP'].apply(lambda x: x[1])"
   ]
  },
  {
   "cell_type": "code",
   "execution_count": 396,
   "metadata": {},
   "outputs": [
    {
     "data": {
      "text/html": [
       "<div>\n",
       "<style scoped>\n",
       "    .dataframe tbody tr th:only-of-type {\n",
       "        vertical-align: middle;\n",
       "    }\n",
       "\n",
       "    .dataframe tbody tr th {\n",
       "        vertical-align: top;\n",
       "    }\n",
       "\n",
       "    .dataframe thead th {\n",
       "        text-align: right;\n",
       "    }\n",
       "</style>\n",
       "<table border=\"1\" class=\"dataframe\">\n",
       "  <thead>\n",
       "    <tr style=\"text-align: right;\">\n",
       "      <th></th>\n",
       "      <th>player_name</th>\n",
       "      <th>recent_team</th>\n",
       "      <th>season</th>\n",
       "      <th>prob_MVP</th>\n",
       "      <th>act_MVP</th>\n",
       "      <th>interceptions</th>\n",
       "      <th>total_tds_rank</th>\n",
       "      <th>total_epa_rank</th>\n",
       "      <th>total_yards_rank</th>\n",
       "      <th>games_won_rank</th>\n",
       "    </tr>\n",
       "  </thead>\n",
       "  <tbody>\n",
       "    <tr>\n",
       "      <th>537</th>\n",
       "      <td>T.Brady</td>\n",
       "      <td>TB</td>\n",
       "      <td>2021</td>\n",
       "      <td>3.423737e-01</td>\n",
       "      <td>0</td>\n",
       "      <td>11</td>\n",
       "      <td>1.0</td>\n",
       "      <td>3.0</td>\n",
       "      <td>1.0</td>\n",
       "      <td>3.0</td>\n",
       "    </tr>\n",
       "    <tr>\n",
       "      <th>557</th>\n",
       "      <td>P.Mahomes</td>\n",
       "      <td>KC</td>\n",
       "      <td>2021</td>\n",
       "      <td>3.079588e-01</td>\n",
       "      <td>0</td>\n",
       "      <td>13</td>\n",
       "      <td>4.0</td>\n",
       "      <td>1.0</td>\n",
       "      <td>2.0</td>\n",
       "      <td>3.0</td>\n",
       "    </tr>\n",
       "    <tr>\n",
       "      <th>542</th>\n",
       "      <td>M.Stafford</td>\n",
       "      <td>LA</td>\n",
       "      <td>2021</td>\n",
       "      <td>1.706792e-01</td>\n",
       "      <td>0</td>\n",
       "      <td>10</td>\n",
       "      <td>3.0</td>\n",
       "      <td>2.0</td>\n",
       "      <td>5.0</td>\n",
       "      <td>3.0</td>\n",
       "    </tr>\n",
       "    <tr>\n",
       "      <th>565</th>\n",
       "      <td>J.Herbert</td>\n",
       "      <td>LAC</td>\n",
       "      <td>2021</td>\n",
       "      <td>2.473304e-04</td>\n",
       "      <td>0</td>\n",
       "      <td>12</td>\n",
       "      <td>3.0</td>\n",
       "      <td>4.0</td>\n",
       "      <td>3.0</td>\n",
       "      <td>9.0</td>\n",
       "    </tr>\n",
       "    <tr>\n",
       "      <th>546</th>\n",
       "      <td>R.Tannehill</td>\n",
       "      <td>TEN</td>\n",
       "      <td>2021</td>\n",
       "      <td>5.507574e-05</td>\n",
       "      <td>0</td>\n",
       "      <td>14</td>\n",
       "      <td>12.0</td>\n",
       "      <td>13.0</td>\n",
       "      <td>11.0</td>\n",
       "      <td>3.0</td>\n",
       "    </tr>\n",
       "    <tr>\n",
       "      <th>539</th>\n",
       "      <td>A.Rodgers</td>\n",
       "      <td>GB</td>\n",
       "      <td>2021</td>\n",
       "      <td>5.098237e-05</td>\n",
       "      <td>1</td>\n",
       "      <td>1</td>\n",
       "      <td>27.0</td>\n",
       "      <td>7.0</td>\n",
       "      <td>32.0</td>\n",
       "      <td>1.0</td>\n",
       "    </tr>\n",
       "    <tr>\n",
       "      <th>560</th>\n",
       "      <td>J.Allen</td>\n",
       "      <td>BUF</td>\n",
       "      <td>2021</td>\n",
       "      <td>3.166725e-05</td>\n",
       "      <td>0</td>\n",
       "      <td>12</td>\n",
       "      <td>6.0</td>\n",
       "      <td>6.0</td>\n",
       "      <td>6.0</td>\n",
       "      <td>9.0</td>\n",
       "    </tr>\n",
       "    <tr>\n",
       "      <th>549</th>\n",
       "      <td>J.Garoppolo</td>\n",
       "      <td>SF</td>\n",
       "      <td>2021</td>\n",
       "      <td>7.871128e-06</td>\n",
       "      <td>0</td>\n",
       "      <td>10</td>\n",
       "      <td>13.0</td>\n",
       "      <td>5.0</td>\n",
       "      <td>12.0</td>\n",
       "      <td>9.0</td>\n",
       "    </tr>\n",
       "    <tr>\n",
       "      <th>540</th>\n",
       "      <td>Aa.Rodgers</td>\n",
       "      <td>GB</td>\n",
       "      <td>2021</td>\n",
       "      <td>4.643934e-06</td>\n",
       "      <td>1</td>\n",
       "      <td>3</td>\n",
       "      <td>19.0</td>\n",
       "      <td>12.0</td>\n",
       "      <td>31.0</td>\n",
       "      <td>1.0</td>\n",
       "    </tr>\n",
       "    <tr>\n",
       "      <th>567</th>\n",
       "      <td>J.Burrow</td>\n",
       "      <td>CIN</td>\n",
       "      <td>2021</td>\n",
       "      <td>9.260847e-07</td>\n",
       "      <td>0</td>\n",
       "      <td>14</td>\n",
       "      <td>7.0</td>\n",
       "      <td>11.0</td>\n",
       "      <td>8.0</td>\n",
       "      <td>9.0</td>\n",
       "    </tr>\n",
       "    <tr>\n",
       "      <th>562</th>\n",
       "      <td>K.Murray</td>\n",
       "      <td>ARI</td>\n",
       "      <td>2021</td>\n",
       "      <td>6.018928e-07</td>\n",
       "      <td>0</td>\n",
       "      <td>10</td>\n",
       "      <td>9.0</td>\n",
       "      <td>8.0</td>\n",
       "      <td>15.0</td>\n",
       "      <td>9.0</td>\n",
       "    </tr>\n",
       "    <tr>\n",
       "      <th>554</th>\n",
       "      <td>D.Prescott</td>\n",
       "      <td>DAL</td>\n",
       "      <td>2021</td>\n",
       "      <td>5.703068e-07</td>\n",
       "      <td>0</td>\n",
       "      <td>10</td>\n",
       "      <td>8.0</td>\n",
       "      <td>19.0</td>\n",
       "      <td>9.0</td>\n",
       "      <td>7.0</td>\n",
       "    </tr>\n",
       "    <tr>\n",
       "      <th>571</th>\n",
       "      <td>M.Jones</td>\n",
       "      <td>NE</td>\n",
       "      <td>2021</td>\n",
       "      <td>1.918826e-07</td>\n",
       "      <td>0</td>\n",
       "      <td>10</td>\n",
       "      <td>21.0</td>\n",
       "      <td>15.0</td>\n",
       "      <td>16.0</td>\n",
       "      <td>7.0</td>\n",
       "    </tr>\n",
       "    <tr>\n",
       "      <th>545</th>\n",
       "      <td>K.Cousins</td>\n",
       "      <td>MIN</td>\n",
       "      <td>2021</td>\n",
       "      <td>8.296775e-08</td>\n",
       "      <td>0</td>\n",
       "      <td>6</td>\n",
       "      <td>6.0</td>\n",
       "      <td>9.0</td>\n",
       "      <td>7.0</td>\n",
       "      <td>15.0</td>\n",
       "    </tr>\n",
       "    <tr>\n",
       "      <th>548</th>\n",
       "      <td>D.Carr</td>\n",
       "      <td>LV</td>\n",
       "      <td>2021</td>\n",
       "      <td>4.039730e-09</td>\n",
       "      <td>0</td>\n",
       "      <td>11</td>\n",
       "      <td>19.0</td>\n",
       "      <td>16.0</td>\n",
       "      <td>4.0</td>\n",
       "      <td>15.0</td>\n",
       "    </tr>\n",
       "  </tbody>\n",
       "</table>\n",
       "</div>"
      ],
      "text/plain": [
       "     player_name recent_team  season      prob_MVP  act_MVP  interceptions  \\\n",
       "537      T.Brady          TB    2021  3.423737e-01        0             11   \n",
       "557    P.Mahomes          KC    2021  3.079588e-01        0             13   \n",
       "542   M.Stafford          LA    2021  1.706792e-01        0             10   \n",
       "565    J.Herbert         LAC    2021  2.473304e-04        0             12   \n",
       "546  R.Tannehill         TEN    2021  5.507574e-05        0             14   \n",
       "539    A.Rodgers          GB    2021  5.098237e-05        1              1   \n",
       "560      J.Allen         BUF    2021  3.166725e-05        0             12   \n",
       "549  J.Garoppolo          SF    2021  7.871128e-06        0             10   \n",
       "540   Aa.Rodgers          GB    2021  4.643934e-06        1              3   \n",
       "567     J.Burrow         CIN    2021  9.260847e-07        0             14   \n",
       "562     K.Murray         ARI    2021  6.018928e-07        0             10   \n",
       "554   D.Prescott         DAL    2021  5.703068e-07        0             10   \n",
       "571      M.Jones          NE    2021  1.918826e-07        0             10   \n",
       "545    K.Cousins         MIN    2021  8.296775e-08        0              6   \n",
       "548       D.Carr          LV    2021  4.039730e-09        0             11   \n",
       "\n",
       "     total_tds_rank  total_epa_rank  total_yards_rank  games_won_rank  \n",
       "537             1.0             3.0               1.0             3.0  \n",
       "557             4.0             1.0               2.0             3.0  \n",
       "542             3.0             2.0               5.0             3.0  \n",
       "565             3.0             4.0               3.0             9.0  \n",
       "546            12.0            13.0              11.0             3.0  \n",
       "539            27.0             7.0              32.0             1.0  \n",
       "560             6.0             6.0               6.0             9.0  \n",
       "549            13.0             5.0              12.0             9.0  \n",
       "540            19.0            12.0              31.0             1.0  \n",
       "567             7.0            11.0               8.0             9.0  \n",
       "562             9.0             8.0              15.0             9.0  \n",
       "554             8.0            19.0               9.0             7.0  \n",
       "571            21.0            15.0              16.0             7.0  \n",
       "545             6.0             9.0               7.0            15.0  \n",
       "548            19.0            16.0               4.0            15.0  "
      ]
     },
     "execution_count": 396,
     "metadata": {},
     "output_type": "execute_result"
    }
   ],
   "source": [
    "new = new[['player_name', 'recent_team', 'season', 'prob_MVP', 'act_MVP', 'interceptions', 'total_tds_rank', 'total_epa_rank', 'total_yards_rank', 'games_won_rank']]\n",
    "new.sort_values(by=['prob_MVP'], ascending=False).head(15)"
   ]
  }
 ],
 "metadata": {
  "interpreter": {
   "hash": "85a859e3d0e196225b8ec7ab21d32126785282672a456e83e8e22f454559da93"
  },
  "kernelspec": {
   "display_name": "Python 3.7.11 64-bit ('ds': conda)",
   "language": "python",
   "name": "python3"
  },
  "language_info": {
   "codemirror_mode": {
    "name": "ipython",
    "version": 3
   },
   "file_extension": ".py",
   "mimetype": "text/x-python",
   "name": "python",
   "nbconvert_exporter": "python",
   "pygments_lexer": "ipython3",
   "version": "3.9.7"
  },
  "orig_nbformat": 4
 },
 "nbformat": 4,
 "nbformat_minor": 2
}
