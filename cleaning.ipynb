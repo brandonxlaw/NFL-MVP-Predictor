{
 "cells": [
  {
   "cell_type": "code",
   "execution_count": 64,
   "id": "c43fe5f2-0078-4d83-9be2-68628c8a5371",
   "metadata": {},
   "outputs": [],
   "source": [
    "import pandas as pd \n",
    "import glob\n",
    "import re"
   ]
  },
  {
   "cell_type": "code",
   "execution_count": 154,
   "id": "a3fdf277-8fcf-4764-b75b-6d5522e56660",
   "metadata": {},
   "outputs": [],
   "source": [
    "# Take year from which the stats are displaying\n",
    "def extract_year(string):\n",
    "    match = re.match(\".+(\\d{4})\", string)\n",
    "    if match != None: \n",
    "        return match.group(1)\n",
    "\n",
    "# Set path for where to look for the raw data files\n",
    "path_pass = \"./data/passing/\"\n",
    "path_rush = \"./data/rushing/\"\n",
    "all_pass_files = glob.glob(path_pass + \"20**-pass.csv\")\n",
    "all_rush_files = glob.glob(path_rush + \"20**-rush.csv\")"
   ]
  },
  {
   "cell_type": "code",
   "execution_count": 155,
   "id": "bf320b4e-d8ca-4bbf-8976-19b97c42414c",
   "metadata": {},
   "outputs": [],
   "source": [
    "# Clean passing datasets\n",
    "def clean_pass(p):\n",
    "    df = pd.DataFrame(p)\n",
    "    # Remove completely empty rows\n",
    "    df.dropna(axis=0, how='all', inplace=True)\n",
    "    # Remove special characters in front of player names\n",
    "    df['player'] = df['player'].str.rstrip('*+')\n",
    "    # Add MVP status column\n",
    "    df.insert(2, \"mvp\", 0)\n",
    "    # Renaming columns\n",
    "    df.rename(columns={\"qbrec\": \"record\", \"yds\": \"yards\", \"tm\": \"team\"}, inplace=True)\n",
    "    # Split the record column into Wins, Losses and Draws\n",
    "    df[['wins', 'losses', 'draws']] = df['record'].str.split('-', 3, expand=True)\n",
    "    df_new = df[['player', 'mvp', 'team', 'wins', 'yards', 'td', 'cmp%', 'int', 'qbr']].copy()\n",
    "    return df_new"
   ]
  },
  {
   "cell_type": "code",
   "execution_count": 156,
   "id": "748a8841-1cbd-4768-96df-87e6eb27d065",
   "metadata": {},
   "outputs": [],
   "source": [
    "# Clean rushing datasets\n",
    "def clean_rush(r):\n",
    "    df = pd.DataFrame(r)\n",
    "    # Remove completely empty rows\n",
    "    df.dropna(axis=0, how='all', inplace=True)\n",
    "    # Remove special characters in front of player names\n",
    "    df['player'] = df['player'].str.rstrip('*+')\n",
    "    # Renaming columns\n",
    "    df.rename(columns={\"tm\": \"team\", \"yds\": \"rush yards\", \"td\": \"rush td\"}, inplace=True)\n",
    "    df_new = df[['player', 'team', 'rush yards', 'rush td']].copy()\n",
    "    return df_new"
   ]
  },
  {
   "cell_type": "code",
   "execution_count": 157,
   "id": "9f71759b-d453-4f3b-a7f1-6f5dc99903d9",
   "metadata": {},
   "outputs": [],
   "source": [
    "# Create a new CSV files with cleaned datasets\n",
    "\n",
    "for p in all_pass_files:\n",
    "    df = pd.read_csv(p, index_col=None, header=0)\n",
    "    df.columns = map(str.lower, df.columns)\n",
    "    df = clean_pass(df)\n",
    "    year = extract_year(p)\n",
    "    df[\"year\"] = extract_year(p)\n",
    "    df.to_csv(f'./data/cleaned/{year}-pass.csv', encoding='utf-8', index=False)\n",
    "    \n",
    "for r in all_rush_files:\n",
    "    df = pd.read_csv(r, skiprows=1, index_col=None, header=0)\n",
    "    df.columns = map(str.lower, df.columns)\n",
    "    year = extract_year(r)\n",
    "    df = clean_rush(df)\n",
    "    df.to_csv(f'./data/cleaned/{year}-rush.csv', encoding='utf-8', index=False)"
   ]
  },
  {
   "cell_type": "code",
   "execution_count": 159,
   "id": "d6beca56-c2b8-4f7d-abe9-29013d6eee0a",
   "metadata": {},
   "outputs": [],
   "source": [
    "# Set path for where to look for the cleaned data files\n",
    "path = \"./data/cleaned/\"\n",
    "all_files = glob.glob(path + \"20**-pass.csv\")\n",
    "\n",
    "# Loop through the folder and find matching CSV files by year\n",
    "for file in all_files:\n",
    "    year = extract_year(file)\n",
    "    df_pass = pd.read_csv(file, index_col=None, header=0) \n",
    "    df_add = pd.read_csv(f'./data/cleaned/{year}-rush.csv', index_col=None, header=0)\n",
    "    # Merge Rushing and Passing stats\n",
    "    df = pd.merge(df_pass, df_add, on=['player', 'team'])\n",
    "    # Save aggregate file\n",
    "    df.to_csv(f'./data/{year}.csv', encoding='utf-8', index=False)"
   ]
  },
  {
   "cell_type": "code",
   "execution_count": 162,
   "id": "cc5256c1-fa9c-4527-977d-f620ce1aede5",
   "metadata": {},
   "outputs": [],
   "source": [
    "path = \"./data/\"\n",
    "all_files = glob.glob(path + \"20**.csv\")\n",
    "\n",
    "mvp = {'2010': 'Tom Brady', '2011': 'Aaron Rodgers', '2013': 'Peyton Manning', '2014': 'Aaron Rodgers', '2015': 'Cam Newton', '2016': 'Matt Ryan', '2017': 'Tom Brady', '2018': 'Patrick Mahomes', '2019': 'Lamar Jackson', '2020': 'Aaron Rodgers'}\n",
    "\n",
    "# Update each CSV file to indicate whether they won the MVP: 1 = 'yes' and 0 = 'no'\n",
    "for file in all_files:\n",
    "    df = pd.read_csv(file, index_col=None, header=0)\n",
    "    year = extract_year(file)\n",
    "    winner = mvp[year]\n",
    "    df.loc[df['player'] == f'{winner}', 'mvp'] = 1\n",
    "    df_new = df[['year', 'player', 'mvp', 'team', 'wins', 'yards', 'td', 'cmp%', 'int', 'qbr', 'rush yards', 'rush td']].copy()\n",
    "    df_new.to_csv(file, encoding='utf-8', index=False)"
   ]
  }
 ],
 "metadata": {
  "kernelspec": {
   "display_name": "Python 3",
   "language": "python",
   "name": "python3"
  },
  "language_info": {
   "codemirror_mode": {
    "name": "ipython",
    "version": 3
   },
   "file_extension": ".py",
   "mimetype": "text/x-python",
   "name": "python",
   "nbconvert_exporter": "python",
   "pygments_lexer": "ipython3",
   "version": "3.8.8"
  }
 },
 "nbformat": 4,
 "nbformat_minor": 5
}
